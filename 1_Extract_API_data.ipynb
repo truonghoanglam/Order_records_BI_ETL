{
 "cells": [
  {
   "cell_type": "code",
   "execution_count": null,
   "id": "6bab5181-eb45-4783-9121-4790128277ec",
   "metadata": {},
   "outputs": [],
   "source": [
    "# Import library\n",
    "import requests \n",
    "import pandas as pd\n",
    "\n",
    "from datetime import date\n",
    "from datetime import timedelta\n",
    "\n",
    "import datetime\n",
    "import time"
   ]
  },
  {
   "cell_type": "markdown",
   "id": "a23067de-4c6e-45ef-b1db-d0557a2df9de",
   "metadata": {},
   "source": [
    "# Create API key list based on all the client:"
   ]
  },
  {
   "cell_type": "code",
   "execution_count": null,
   "id": "1fda69e0-94b4-4a65-a884-be766c8fa556",
   "metadata": {},
   "outputs": [],
   "source": [
    "client_list = pd.read_csv(r'FILE', index_col=0) \n",
    "\n",
    "# Filter clients that have API key\n",
    "client_list  = client_list[['Client ID', 'Client Type', 'API key', 'Name', 'Market']]\n",
    "client_list  = client_list[client_list['API key'].notnull()]\n",
    "\n",
    "# Clean data\n",
    "client_id    = []\n",
    "for i in client_list['Client ID']:\n",
    "    client_id.append(i.split('S', 2)[1])\n",
    "    \n",
    "client_list['Client ID'] = client_id\n",
    "\n",
    "# Rename column\n",
    "client_list.columns = ['shop_id', 'client_type', 'api_key', 'shop_name', 'country']\n",
    "\n",
    "# Create client list\n",
    "client_list.to_csv(r'FILE')"
   ]
  },
  {
   "cell_type": "markdown",
   "id": "c11d2489-f423-4c78-a9f2-29295a72ae95",
   "metadata": {
    "tags": []
   },
   "source": [
    "# Make API call and parse into JSON"
   ]
  },
  {
   "cell_type": "code",
   "execution_count": null,
   "id": "c3aab822-2c8e-4d45-b4cd-d7eec3957a62",
   "metadata": {
    "tags": []
   },
   "outputs": [],
   "source": [
    "thirty_days_ago   = (date.today() + timedelta(days= -30)).strftime(\"%Y-%m-%d\")\n",
    "yesterday         = (date.today() + timedelta(days= -1 )).strftime(\"%Y-%m-%d\")\n",
    "\n",
    "a          = datetime.date(int(thirty_days_ago[0:4]), int(thirty_days_ago[5:7]), int(thirty_days_ago[8:10]))\n",
    "start_time = str(time.mktime(a.timetuple()))[0:-2]\n",
    "\n",
    "\n",
    "#--------------------------------------------------\n",
    "\n",
    "# Limit - Number of orders in each API call:\n",
    "page_size  = 1000\n",
    "# Offset - Page number of that API call:\n",
    "page_num   = 1\n",
    "\n",
    "# Variable to store data:\n",
    "data_need  = [] \n",
    "\n",
    "#--------------------------------------------------\n",
    "\n",
    "# Loop through each client's API and retreive data:\n",
    "\n",
    "for shop_id, api_key, shop_name in zip(client_list['shop_id'], client_list['api_key'], client_list['shop_name']):\n",
    "    \n",
    "    # Keep looping and get all the data inside!\n",
    "    print('Client: ' + shop_name)\n",
    "    while True:\n",
    "        url   = f'https://web/api/v15/{shop_id}/orders?api_key={api_key}&number={page_num}&size={page_size}&start={start_time}'\n",
    "        print(url)\n",
    "        data  = requests.get(url).json()\n",
    "\n",
    "        # Are there any data left?\n",
    "        if len(data['data']) != 0:\n",
    "            \n",
    "            # If yes, add them to our Variable 'data_need'. And move on to the next page\n",
    "            data_need.extend(data['data'])\n",
    "            page_num  = page_num + 1      \n",
    "            \n",
    "        else:\n",
    "            # If not, move to the next API\n",
    "            page_num  = 1\n",
    "            print()\n",
    "            print('------------')\n",
    "            # (Get out and move to the next API, start from page 1)\n",
    "            break"
   ]
  },
  {
   "cell_type": "markdown",
   "id": "f8036ce1-287e-46fb-9258-33eb5d1670cb",
   "metadata": {},
   "source": [
    "# Save it as a big data frame"
   ]
  },
  {
   "cell_type": "code",
   "execution_count": null,
   "id": "0659fb39-8626-4e95-9b01-9267e8cf8441",
   "metadata": {},
   "outputs": [],
   "source": [
    "# Now we got data_need that contain all the data. Make it a dataframe:\n",
    "df1 = pd.DataFrame(data_need)\n",
    "print(len(df1))\n",
    "\n",
    "# Make a CSV to store raw data\n",
    "df1.to_csv(r'FILE')\n",
    "\n",
    "# Save as dataframe file\n",
    "df1.to_pickle(r'FILE')"
   ]
  }
 ],
 "metadata": {
  "kernelspec": {
   "display_name": "Python 3 (ipykernel)",
   "language": "python",
   "name": "python3"
  },
  "language_info": {
   "codemirror_mode": {
    "name": "ipython",
    "version": 3
   },
   "file_extension": ".py",
   "mimetype": "text/x-python",
   "name": "python",
   "nbconvert_exporter": "python",
   "pygments_lexer": "ipython3",
   "version": "3.10.5"
  },
  "toc-showcode": false,
  "toc-showmarkdowntxt": false,
  "toc-showtags": false,
  "vscode": {
   "interpreter": {
    "hash": "d64a842f6ec1dac7ef56235f33f16380dc1e39b5684dad2376df3e83ba408732"
   }
  }
 },
 "nbformat": 4,
 "nbformat_minor": 5
}
