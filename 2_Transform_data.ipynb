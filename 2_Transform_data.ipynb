{
 "cells": [
  {
   "cell_type": "code",
   "execution_count": null,
   "id": "6bab5181-eb45-4783-9121-4790128277ec",
   "metadata": {},
   "outputs": [],
   "source": [
    "# Import library\n",
    "import requests \n",
    "import pandas as pd\n",
    "\n",
    "from datetime import date\n",
    "from datetime import timedelta\n",
    "\n",
    "import datetime\n",
    "import time"
   ]
  },
  {
   "cell_type": "markdown",
   "id": "f10765f5-8bb8-407b-a7ea-1df9cd273125",
   "metadata": {},
   "source": [
    "# Filter Column we need"
   ]
  },
  {
   "cell_type": "code",
   "execution_count": null,
   "id": "458ab2c6-2545-44cd-83ec-de52ae33c39e",
   "metadata": {},
   "outputs": [],
   "source": [
    "sheet_df    = pd.read_csv(gsheet_url)\n",
    "\n",
    "print('We need these columns:')\n",
    "print()\n",
    "sheet_df['Column']"
   ]
  },
  {
   "cell_type": "code",
   "execution_count": null,
   "id": "ecd51364-1f3e-424d-b703-3bf7e2d191d5",
   "metadata": {},
   "outputs": [],
   "source": [
    "df = pd.read_pickle(r'FILE')\n",
    "\n",
    "# Take only columns we need:\n",
    "df = df[sheet_df['Column']]\n",
    "df.head(5)"
   ]
  },
  {
   "cell_type": "markdown",
   "id": "1e6324b0-3119-4f49-929c-249afd012f14",
   "metadata": {},
   "source": [
    "# Create more column"
   ]
  },
  {
   "cell_type": "markdown",
   "id": "dc051157-2e3d-4892-886f-973809ea8287",
   "metadata": {},
   "source": [
    "## Create column from raw data"
   ]
  },
  {
   "cell_type": "code",
   "execution_count": null,
   "id": "f194a317-cbda-4636-8abc-ab461c750ec5",
   "metadata": {},
   "outputs": [],
   "source": [
    "# Create Revenue column: Revenue = COD + bank transfer\n",
    "df['revenue'] = df['cod'] + df['transfer_money']\n",
    "\n",
    "# ______________________________________________________________________________________________________________________________________________________________________________________________________\n",
    "\n",
    "# Creat tag column\n",
    "tag_list = []\n",
    "for i in df['order_tags']:\n",
    "    tag = []\n",
    "    for q in i:\n",
    "        if str(q).find(\"'value_name':\") == -1:\n",
    "            tag.append('')\n",
    "        else:\n",
    "            j = 'Tag: (' + q['value_name'] + ')'\n",
    "            tag.append(j)\n",
    "    k = ', '.join(tag)\n",
    "    tag_list.append(k)\n",
    "df['order_tags'] = tag_list\n",
    "\n",
    "# ______________________________________________________________________________________________________________________________________________________________________________________________________\n",
    "\n",
    "# Create Warehouse column\n",
    "warehouse = []\n",
    "for i in df['warehouse_name']:\n",
    "    if type(i) == dict and 'value_name' in i:\n",
    "        warehouse.append(i['value_name'])\n",
    "    else:\n",
    "        warehouse.append('')\n",
    "df['warehouse_name'] = warehouse\n",
    "\n",
    "# ______________________________________________________________________________________________________________________________________________________________________________________________________\n",
    "\n",
    "# create seller column:\n",
    "seller = []\n",
    "for i in df['employees']:\n",
    "    if type(i) == dict and 'value_name' in i: \n",
    "        seller.append(i['value_name'])\n",
    "    else:\n",
    "        seller.append('')\n",
    "    \n",
    "df['employees'] = seller\n",
    "\n",
    "# ______________________________________________________________________________________________________________________________________________________________________________________________________\n",
    "\n",
    "# create courier partner_shipping column\n",
    "partner_shipping = []\n",
    "for i in df['partner_shipping']:\n",
    "    if str(i).find('extend_code') != -1 and str(i).find('order_number_vtp') != -1: \n",
    "        j = str(i['extend_code']) + ' ' + str(i['order_number_vtp'])\n",
    "        partner_shipping.append(j)\n",
    "    else:\n",
    "        partner_shipping.append('')\n",
    "df['partner_shipping'] = partner_shipping"
   ]
  },
  {
   "cell_type": "markdown",
   "id": "82793160-8cdc-4945-8e86-3f158774fbbd",
   "metadata": {},
   "source": [
    "## Transform these columns:"
   ]
  },
  {
   "cell_type": "code",
   "execution_count": null,
   "id": "16a5e493-3fd6-42b8-96a1-bdf763b9a19f",
   "metadata": {},
   "outputs": [],
   "source": [
    "df2 = df\n",
    "\n",
    "def convert_time(x):\n",
    "    convert_time = []\n",
    "    for i in x:\n",
    "        if i != '':\n",
    "            i = i.split('T', 1)[0] +' '+ i.split('T', 1)[1]\n",
    "            i = pd.to_datetime(\n",
    "            \n",
    "                    i[:19]\n",
    "            \n",
    "                ) + pd.DateOffset(hours=7)\n",
    "            convert_time.append(i)\n",
    "        else:\n",
    "            convert_time.append('')\n",
    "    return convert_time\n",
    "\n",
    "# ______________________________________________________________________________________________________________________________________________________________________________________________________\n",
    "\n",
    "# funtion to calculate time duration':\n",
    "def duration(end_time, start_time, unit):\n",
    "    duration_list = []\n",
    "    for i, e in zip(end_time, start_time):\n",
    "        \n",
    "        if i != '' and e != '':\n",
    "            duration = pd.to_datetime(i) - pd.to_datetime(e)\n",
    "            if unit    == 'day':\n",
    "                duration_list.append(round(duration / pd.Timedelta(days=1), 1) )\n",
    "                \n",
    "            elif unit  == 'hour':\n",
    "                duration_list.append(round(duration / pd.Timedelta(hours=1), 1) )\n",
    "                \n",
    "            elif unit  == 'minute':\n",
    "                duration_list.append(round(duration / pd.Timedelta(minutes=1), 1) )\n",
    "        else:\n",
    "            duration_list.append('')\n",
    "    return duration_list"
   ]
  },
  {
   "cell_type": "code",
   "execution_count": null,
   "id": "b3052691-c145-4aac-afb8-59ee3637733f",
   "metadata": {},
   "outputs": [],
   "source": [
    "# timeline status:\n",
    "status_timeline = []\n",
    "for i in df2['status_timeline']:\n",
    "    if str(i).find(\"'status':\") == -1:\n",
    "        status_timeline.append('')\n",
    "        \n",
    "    else:\n",
    "        status = []\n",
    "        for j in i:\n",
    "            a  = j['updated_at'].split('T', 1)[0] +' '+ j['updated_at'].split('T', 1)[1]\n",
    "            updated_at = pd.to_datetime(a[:19]) + pd.DateOffset(hours=7)\n",
    "            k  = 'S: ' + str(j['status']) + ' - ' + str(updated_at)\n",
    "            status.append(k)\n",
    "        z = ', '.join(status)\n",
    "        if len(z) < 1000:\n",
    "            status_timeline.append(z)\n",
    "        else:\n",
    "            status_timeline.append('')\n",
    "df2['status_timeline'] = status_timeline\n",
    "\n",
    "# ______________________________________________________________________________________________________________________________________________________________________________________________________\n",
    "\n",
    "# convert time:\n",
    "df2['inserted_at']                = convert_time(df2['inserted_at'])\n",
    "df2['updated_at']                 = convert_time(df2['updated_at'])"
   ]
  },
  {
   "cell_type": "code",
   "execution_count": null,
   "id": "a6e0588e-0bcc-41ce-ac5e-1a1c9226482f",
   "metadata": {},
   "outputs": [],
   "source": [
    "# Delete no need columns:\n",
    "df2 = df2.drop(columns = ['S', 'O', 'cod', 'transfer_money'])\n",
    "\n",
    "df2.info()"
   ]
  },
  {
   "cell_type": "markdown",
   "id": "e238abc7-188a-4f7c-b4b3-826f0b28fc80",
   "metadata": {},
   "source": [
    "# Gadget (Chunk list + trigger)"
   ]
  },
  {
   "cell_type": "code",
   "execution_count": null,
   "id": "3850c82a-02eb-4bfd-9e68-53e38bcb68ab",
   "metadata": {},
   "outputs": [],
   "source": [
    "# Create a CSV file\n",
    "df2.to_csv(r'FILE')\n",
    "\n",
    "# ______________________________________________________________________________________________________________________________________________________________________________________________________\n",
    "\n",
    "# Create the pandas DataFrame with column value_name is provided explicitly\n",
    "number_of_chunk = len(df2) / 100\n",
    "\n",
    "chunk_list = pd.DataFrame(list(range(0, int(number_of_chunk)+1)), columns=['Chunk'])\n",
    "chunk_list.to_csv(r'FILE')\n",
    "# print dataframe.\n",
    "chunk_list\n",
    "\n",
    "# ______________________________________________________________________________________________________________________________________________________________________________________________________\n",
    "\n",
    "# Create trigger\n",
    "trigger = pd.DataFrame()\n",
    "# Printing Empty DataFrame\n",
    "trigger.to_csv(r'FILE')"
   ]
  }
 ],
 "metadata": {
  "kernelspec": {
   "display_name": "Python 3 (ipykernel)",
   "language": "python",
   "name": "python3"
  },
  "language_info": {
   "codemirror_mode": {
    "name": "ipython",
    "version": 3
   },
   "file_extension": ".py",
   "mimetype": "text/x-python",
   "name": "python",
   "nbconvert_exporter": "python",
   "pygments_lexer": "ipython3",
   "version": "3.10.5"
  },
  "toc-autonumbering": true,
  "toc-showcode": true,
  "toc-showmarkdowntxt": false,
  "vscode": {
   "interpreter": {
    "hash": "eb58175c79e4420ce3b73c9c125ffa5ed970374b0dc7a7c9fb27d5fca9a2cdd0"
   }
  }
 },
 "nbformat": 4,
 "nbformat_minor": 5
}
